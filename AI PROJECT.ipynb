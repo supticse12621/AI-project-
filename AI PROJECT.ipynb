{
  "nbformat": 4,
  "nbformat_minor": 0,
  "metadata": {
    "colab": {
      "name": "Untitled0.ipynb",
      "provenance": []
    },
    "kernelspec": {
      "name": "python3",
      "display_name": "Python 3"
    },
    "language_info": {
      "name": "python"
    }
  },
  "cells": [
    {
      "cell_type": "code",
      "metadata": {
        "id": "21qNVACEaafR"
      },
      "source": [
        "import tensorflow as tf\n",
        "import numpy as np\n",
        "import matplotlib.pyplot as plt"
      ],
      "execution_count": null,
      "outputs": []
    },
    {
      "cell_type": "code",
      "metadata": {
        "id": "CU24vOh-bIpJ"
      },
      "source": [
        "mobile = tf.keras.models.load_model('/content/drive/MyDrive/ai lab assesment/keras_model.h5')\n",
        "class_names = [' Class 1', 'Class 2','Class 3']\n",
        "\n",
        "\n",
        "test_image_path = \"/content/drive/MyDrive/Ai_Final Assessment/download (1).jpg\"\n",
        "img = tf.keras.preprocessing.image.load_img(test_image_path, target_size = (224,224))\n",
        "#Convert the Image into Array\n",
        "img_arr = tf.keras.preprocessing.image.img_to_array(img)\n",
        "#For deep learning we need 1 more dimension\n",
        "final_img = np.expand_dims(img_arr, axis=0)\n",
        "final_img = tf.keras.applications.mobilenet.preprocess_input(final_img)\n",
        "\n",
        "\n",
        "\n",
        "predictions = mobile.predict(final_img)\n",
        "score = tf.nn.softmax(predictions[0])\n",
        "print(\n",
        "    \"This image most likely belongs to {} with a {:.2f} percent confidence.\"\n",
        "    .format(class_names[np.argmax(score)], 100 * np.max(score))\n",
        ")"
      ],
      "execution_count": null,
      "outputs": []
    }
  ]
}